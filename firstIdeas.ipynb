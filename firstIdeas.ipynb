{
 "cells": [],
 "metadata": {
  "kernelspec": {
   "display_name": "Python (finalProject)",
   "language": "python",
   "name": "finalproject"
  },
  "language_info": {
   "name": "python",
   "version": "3.13.2"
  }
 },
 "nbformat": 4,
 "nbformat_minor": 5
}
