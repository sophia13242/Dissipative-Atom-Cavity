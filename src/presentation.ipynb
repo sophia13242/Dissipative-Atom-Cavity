{
 "cells": [
  {
   "cell_type": "markdown",
   "id": "8bf2ce6a",
   "metadata": {},
   "source": [
    "# Cavity QED  \n",
    "### Scientific Computing in Quantum Information Science (QIS)  \n",
    "\n",
    "---\n",
    "\n",
    "**Sophia Simon**   \n",
    "\n",
    "22.08.2025\n"
   ]
  },
  {
   "cell_type": "markdown",
   "id": "3c59b98c",
   "metadata": {},
   "source": [
    "## Outline\n",
    "\n",
    "1. **Introduction & Motivation**  \n",
    "\n",
    "2. **Theoretical Model**  \n",
    "\n",
    "3. **Implementation**  \n",
    "\n",
    "4. **Results: Single Atom**  \n",
    "\n",
    "5. **Multiple Atoms**  \n",
    "\n",
    "6. **Spin Echo & Noise Analysis**  \n",
    "\n",
    "7. **Conclusion & Outlook**  \n"
   ]
  },
  {
   "cell_type": "markdown",
   "id": "4048d986",
   "metadata": {},
   "source": [
    "## Introduction\n",
    "\n",
    "- Cavity QED systems: atoms interacting with quantized light fields.\n",
    "- Applications: quantum computing, quantum simulation, and photon-based devices.\n",
    "- Goal: visualize Rabi oscillations and decoherence effects in multi-atom cavities.\n"
   ]
  },
  {
   "cell_type": "markdown",
   "id": "7eb24c06",
   "metadata": {},
   "source": [
    "<div align=\"center\">\n",
    "  <img src=\"./cavityWithAtom.png\" alt=\"Cavity Illustration\" width=\"400\">\n",
    "</div>\n"
   ]
  },
  {
   "cell_type": "markdown",
   "id": "151c6ae0",
   "metadata": {},
   "source": [
    "## Theoretical Model\n",
    "\n",
    "Hamiltonian for a single atom in a cavity:\n",
    "\n",
    "$$\n",
    "H = \\hbar \\omega_c a^\\dagger a + \\frac{\\hbar \\omega_0}{2} \\sigma_z + \\hbar g (a \\sigma_+ + a^\\dagger \\sigma_-)\n",
    "$$\n",
    "\n",
    "- $a, a^\\dagger$: cavity annihilation/creation operators  \n",
    "- $\\sigma_+, \\sigma_-$: atomic raising/lowering operators  \n",
    "- $g$: coupling strength\n",
    "\n"
   ]
  },
  {
   "cell_type": "markdown",
   "id": "76e1db19",
   "metadata": {},
   "source": [
    "## Implementation in Python \n",
    "\n",
    "```python\n",
    "class AtomCavitySystem:\n",
    "    def __init__(self, N, g, w0, gamma=0.1, kappa=0.05, beta=0.02):\n",
    "        self.N = N\n",
    "        self.g = g\n",
    "        self.w0 = w0\n",
    "        self.gamma = gamma\n",
    "        self.kappa = kappa\n",
    "        self.beta = beta\n",
    "        \n",
    "        # Define operators once\n",
    "        self.a = qt.tensor(qt.destroy(N), qt.identity(2))\n",
    "        self.sm = qt.tensor(qt.identity(N), qt.destroy(2))\n",
    "        self.sz = self.sm.dag() * self.sm - self.sm * self.sm.dag()\n",
    "        self.coh_ge = qt.tensor(qt.qeye(N), qt.basis(2, 0) * qt.basis(2, 1).dag())\n",
    "        self.coh_eg = self.coh_ge.dag()\n",
    "\n",
    "        ...\n",
    "\n",
    "    def create_hamiltonian(self):\n",
    "        H_cavity = self.w0 * self.a.dag() * self.a\n",
    "        H_atom = self.w0 * self.sm.dag() * self.sm\n",
    "        H_int = self.g * (self.a.dag() * self.sm + self.a * self.sm.dag())\n",
    "        return H_cavity + H_atom + H_int\n",
    "\n",
    "        ...\n"
   ]
  },
  {
   "cell_type": "markdown",
   "id": "ea6e2814",
   "metadata": {},
   "source": [
    "## Simulation Methods\n",
    "\n",
    "- **Quantum toolbox in Python (QuTiP)**\n",
    "- **Master equation:**  \n",
    "\n",
    "$$\n",
    "\\dot{\\rho} = -i[H, \\rho] + \\sum_k \\mathcal{D}[c_k]\\rho\n",
    "$$\n",
    "\n",
    "<div align=\"center\">\n",
    "\n",
    "<pre style=\"font-size:20px; background-color:#000000; color:#ffffff; padding:15px; border-radius:10px;\">\n",
    "qt.mesolve(H, psi0, times, c_ops, e_ops, options=qt.Options(store_states=True))\n",
    "</pre>\n",
    "\n",
    "</div>\n",
    "\n",
    "\n",
    "\n",
    "- **Collapse operators:** c_ops\n",
    "  - Cavity decay \n",
    "  ```python\n",
    "  self.c_ops.append(np.sqrt(self.gamma) * self.a)\n",
    "  ``` \n",
    "  - Atomic decay \n",
    "  ```python\n",
    "  self.c_ops.append(np.sqrt(self.kappa) * self.sm)\n",
    "  ```  \n",
    "  - Dephasing\n",
    "  ```python\n",
    "  self.c_ops.append(np.sqrt(self.beta) * self.sz)\n",
    "  ``` \n",
    "\n",
    "\n",
    "\n",
    "\n",
    "- **Expectation values:**  e_ops\n",
    "```python\n",
    "def create_expectation_values(self, number_atom=False, number_cavity=False, coherence_ge=False, coherence_eg=False):\n",
    "        self.e_ops = []\n",
    "        if number_atom:\n",
    "            self.e_ops.append(self.sm.dag() * self.sm)\n",
    "        if number_cavity:\n",
    "            self.e_ops.append(self.a.dag() * self.a)\n",
    "        if coherence_ge:\n",
    "            self.e_ops.append(self.coh_ge)\n",
    "        if coherence_eg:\n",
    "            self.e_ops.append(self.coh_eg)\n",
    "        return self.e_ops\n",
    "```\n",
    "\n",
    "- **Initial state**\n",
    "```python\n",
    "# example: +\n",
    "atom = (qt.basis(2, 0) + qt.basis(2, 1)).unit()\n",
    "```\n",
    "\n",
    "\n",
    "\n"
   ]
  },
  {
   "cell_type": "markdown",
   "id": "c29f13cf",
   "metadata": {},
   "source": [
    "## Results of Single Atom System\n"
   ]
  },
  {
   "cell_type": "code",
   "execution_count": 5,
   "id": "64dd6455",
   "metadata": {},
   "outputs": [],
   "source": [
    "# visualization of single atom cavity"
   ]
  },
  {
   "cell_type": "code",
   "execution_count": 6,
   "id": "224887da",
   "metadata": {},
   "outputs": [],
   "source": [
    "#show single atom on bloch sphere with small code snippet in markdown to show how to do it"
   ]
  },
  {
   "cell_type": "markdown",
   "id": "0efe8685",
   "metadata": {},
   "source": [
    "### Multiple Atoms in a Cavity\n",
    "\n",
    "show system and operators\n"
   ]
  },
  {
   "cell_type": "code",
   "execution_count": 7,
   "id": "c11afd4b",
   "metadata": {},
   "outputs": [],
   "source": [
    "#code to demonstrate multiple atoms next to each other on bloch sphere"
   ]
  },
  {
   "cell_type": "markdown",
   "id": "1aa13c65",
   "metadata": {},
   "source": [
    "### Spin Echo \n",
    "\n",
    "- Introduce static dephasing noise: \\(\\delta\\phi\\sim \\mathcal{N}(0,\\sigma^2)\\)\n",
    "- Apply π-pulse at t = t_echo to refocus Bloch vector\n",
    "- Average over multiple realizations to observe decoherence suppression\n",
    "\n",
    "+ insert code snippet\n"
   ]
  },
  {
   "cell_type": "code",
   "execution_count": 8,
   "id": "cd65b730",
   "metadata": {},
   "outputs": [],
   "source": [
    "# demonstrate result with code - show gif"
   ]
  },
  {
   "cell_type": "markdown",
   "id": "ed7793ab",
   "metadata": {},
   "source": [
    "## Conclusion\n",
    "\n",
    "- Simulated ...\n",
    "- Demonstrated spin echo refocusing under quasi-static dephasing ...\n",
    "- Future: ...\n"
   ]
  }
 ],
 "metadata": {
  "kernelspec": {
   "display_name": "Python (finalProject)",
   "language": "python",
   "name": "finalproject"
  },
  "language_info": {
   "codemirror_mode": {
    "name": "ipython",
    "version": 3
   },
   "file_extension": ".py",
   "mimetype": "text/x-python",
   "name": "python",
   "nbconvert_exporter": "python",
   "pygments_lexer": "ipython3",
   "version": "3.13.2"
  }
 },
 "nbformat": 4,
 "nbformat_minor": 5
}
