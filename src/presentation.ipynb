{
 "cells": [
  {
   "cell_type": "code",
   "execution_count": 39,
   "id": "e6f2732b",
   "metadata": {
    "slideshow": {
     "slide_type": "skip"
    }
   },
   "outputs": [],
   "source": [
    "import numpy as np\n",
    "import qutip as qt\n",
    "import matplotlib.pyplot as plt\n",
    "from ipywidgets import interact, FloatSlider, IntSlider\n",
    "from system_single import AtomCavitySystem\n",
    "from system_multiple import MultipleAtomsCavitySystem\n"
   ]
  },
  {
   "cell_type": "markdown",
   "id": "8bf2ce6a",
   "metadata": {
    "slideshow": {
     "slide_type": "slide"
    }
   },
   "source": [
    "# Cavity QED  \n",
    "### Scientific Computing in Quantum Information Science (QIS)  \n",
    "\n",
    "---\n",
    "\n",
    "**Sophia Simon**   \n",
    "\n",
    "22.08.2025\n"
   ]
  },
  {
   "cell_type": "markdown",
   "id": "3c59b98c",
   "metadata": {
    "slideshow": {
     "slide_type": "subslide"
    }
   },
   "source": [
    "## Outline\n",
    "\n",
    "1. **Project Idea**  \n",
    "\n",
    "2. **Theoretical Model**  \n",
    "\n",
    "3. **Implementation**  \n",
    "\n",
    "4. **Results: Single Atom**  \n",
    "\n",
    "5. **Multiple Atoms**  \n",
    "\n",
    "6. **Spin Echo & Noise**  \n",
    "\n",
    "7. **Outlook & Extensions**  \n"
   ]
  },
  {
   "cell_type": "markdown",
   "id": "4048d986",
   "metadata": {
    "slideshow": {
     "slide_type": "slide"
    }
   },
   "source": [
    "## Project Idea\n",
    "\n",
    "<div align=\"center\">\n",
    "  <img src=\"./cavityWithAtom.png\" alt=\"Cavity Illustration\" width=\"600\">\n",
    "</div>\n"
   ]
  },
  {
   "cell_type": "markdown",
   "id": "151c6ae0",
   "metadata": {
    "slideshow": {
     "slide_type": "slide"
    }
   },
   "source": [
    "## Theoretical Model\n",
    "\n",
    "Hamiltonian for a single atom in a cavity:\n",
    "\n",
    "$$\n",
    "H = \\hbar \\omega_c a^\\dagger a + \\hbar \\omega_0 \\sigma_z + \\hbar g (a \\sigma_+ + a^\\dagger \\sigma_-)\n",
    "$$\n",
    "\n",
    "- $a, a^\\dagger$: cavity annihilation/creation operators  \n",
    "- $\\sigma_+, \\sigma_-$: atomic raising/lowering operators  \n",
    "- $g$: coupling strength\n"
   ]
  },
  {
   "cell_type": "markdown",
   "id": "c304b973",
   "metadata": {
    "slideshow": {
     "slide_type": "fragment"
    }
   },
   "source": [
    "Hamiltonian for multiple atoms:\n",
    "\n",
    "$$\n",
    "H = \\hbar \\omega_c a^\\dagger a + \\sum_{j=1}^N \\hbar \\omega_0 \\sigma_z^{(j)} + \\hbar g \\sum_{j=1}^N \\left( a \\, \\sigma_+^{(j)} + a^\\dagger \\, \\sigma_-^{(j)} \\right)\n",
    "$$"
   ]
  },
  {
   "cell_type": "markdown",
   "id": "76e1db19",
   "metadata": {
    "slideshow": {
     "slide_type": "slide"
    }
   },
   "source": [
    "## Implementation in Python \n",
    "\n",
    "```python\n",
    "class AtomCavitySystem:\n",
    "    def __init__(self, N, g, w0, gamma=0.1, kappa=0.05, beta=0.02):\n",
    "        self.N = N\n",
    "        self.g = g\n",
    "        ...\n",
    "        \n",
    "        # Define operators once\n",
    "        self.a = qt.tensor(qt.destroy(N), qt.identity(2))\n",
    "        self.sm = qt.tensor(qt.identity(N), qt.destroy(2))\n",
    "        ...\n",
    "\n",
    "    def create_hamiltonian(self):\n",
    "        H_cavity = self.w0 * self.a.dag() * self.a\n",
    "        H_atom = self.w0 * self.sm.dag() * self.sm\n",
    "        H_int = self.g * (self.a.dag() * self.sm + self.a * self.sm.dag())\n",
    "        return H_cavity + H_atom + H_int\n",
    "\n",
    "        ...\n",
    "```\n"
   ]
  },
  {
   "cell_type": "markdown",
   "id": "ea6e2814",
   "metadata": {
    "slideshow": {
     "slide_type": "slide"
    }
   },
   "source": [
    "## Simulation Methods\n",
    "\n",
    "- **Quantum toolbox in Python (QuTiP)**\n",
    "- **Master equation:**  \n",
    "\n",
    "$$\n",
    "\\dot{\\rho} = -i[H, \\rho] + \\sum_k \\mathcal{D}[c_k]\\rho\n",
    "$$\n",
    "\n",
    "<div align=\"center\">\n",
    "\n",
    "<pre style=\"font-size:20px; background-color:#000000; color:#ffffff; padding:15px; border-radius:10px;\">\n",
    "qt.mesolve(H, psi0, times, c_ops, e_ops, options=qt.Options(store_states=True))\n",
    "</pre>\n",
    "\n",
    "</div>\n",
    "\n",
    "\n",
    "\n"
   ]
  },
  {
   "cell_type": "markdown",
   "id": "68b69b4d",
   "metadata": {
    "slideshow": {
     "slide_type": "subslide"
    }
   },
   "source": [
    "- **Collapse operators:** c_ops\n",
    "  - Cavity decay \n",
    "  ```python\n",
    "  self.c_ops.append(np.sqrt(self.gamma) * self.a)\n",
    "  ``` \n",
    "  - Atomic decay \n",
    "  ```python\n",
    "  self.c_ops.append(np.sqrt(self.kappa) * self.sm)\n",
    "  ```  \n",
    "  - Dephasing\n",
    "  ```python\n",
    "  self.c_ops.append(np.sqrt(self.beta) * self.sz)\n",
    "  ``` \n",
    "\n",
    "\n"
   ]
  },
  {
   "cell_type": "markdown",
   "id": "c761cac9",
   "metadata": {
    "slideshow": {
     "slide_type": "subslide"
    }
   },
   "source": [
    "- **Expectation values:**  e_ops\n",
    "```python\n",
    "def create_expectation_values(self, number_atom=False, number_cavity=False, coherence_ge=False, coherence_eg=False):\n",
    "        self.e_ops = []\n",
    "        if number_atom:\n",
    "            self.e_ops.append(self.sm.dag() * self.sm)\n",
    "        if number_cavity:\n",
    "            self.e_ops.append(self.a.dag() * self.a)\n",
    "        if coherence_ge:\n",
    "            self.e_ops.append(self.coh_ge)\n",
    "        if coherence_eg:\n",
    "            self.e_ops.append(self.coh_eg)\n",
    "        return self.e_ops\n",
    "```\n"
   ]
  },
  {
   "cell_type": "markdown",
   "id": "a5d75236",
   "metadata": {
    "slideshow": {
     "slide_type": "fragment"
    }
   },
   "source": [
    "\n",
    "- **Initial state**\n",
    "```python\n",
    "# example: '+'\n",
    "atom = (qt.basis(2, 0) + qt.basis(2, 1)).unit()\n",
    "```"
   ]
  },
  {
   "cell_type": "markdown",
   "id": "c29f13cf",
   "metadata": {
    "slideshow": {
     "slide_type": "slide"
    }
   },
   "source": [
    "## Results of Single Atom - Cavity System\n"
   ]
  },
  {
   "cell_type": "markdown",
   "id": "64dd6455",
   "metadata": {
    "slideshow": {
     "slide_type": "fragment"
    }
   },
   "source": [
    "```python\n",
    "\n",
    "def run_simulation(gamma, kappa, beta):\n",
    "    system = AtomCavitySystem(N=10, g=(0.1 * 2 * np.pi), w0=(1.0 * 2 * np.pi),\n",
    "                              gamma=gamma, kappa=kappa, beta=beta)\n",
    "\n",
    "    H = system.create_hamiltonian()\n",
    "\n",
    "    psi11 = system.create_initial_state('1', 'g')\n",
    "\n",
    "    c_ops = system.create_collapse_operators(leaking=True, decay=True, dephasing=True)\n",
    "\n",
    "    e_ops = system.create_expectation_values(\n",
    "        number_atom=True,\n",
    "        number_cavity=True,\n",
    "        coherence_ge=True,\n",
    "        coherence_eg=True\n",
    "    )\n",
    "\n",
    "    times = np.linspace(0, 20, 500)\n",
    "    result = qt.mesolve(H, psi11, times, c_ops, e_ops)\n",
    "\n",
    "```\n"
   ]
  },
  {
   "cell_type": "markdown",
   "id": "d16b149e",
   "metadata": {
    "slideshow": {
     "slide_type": "subslide"
    }
   },
   "source": [
    "<div align=\"center\">\n",
    "  <img src=\"./rabiOszillations.png\" alt=\"Cavity Illustration\" width=\"600\">\n",
    "</div>"
   ]
  },
  {
   "cell_type": "markdown",
   "id": "564d1418",
   "metadata": {
    "slideshow": {
     "slide_type": "subslide"
    }
   },
   "source": [
    "<div align=\"center\">\n",
    "  <img src=\"./result2Single.png\" alt=\"Cavity Illustration\" width=\"600\">\n",
    "</div>"
   ]
  },
  {
   "cell_type": "markdown",
   "id": "0ad20202",
   "metadata": {
    "slideshow": {
     "slide_type": "subslide"
    }
   },
   "source": [
    "### State of the Atom on the Bloch Sphere\n",
    "\n",
    "```python\n",
    "...\n",
    "\n",
    "# Build Hamiltonian\n",
    "H = system.create_hamiltonian()\n",
    "\n",
    "# Initial state |0⟩_cavity ⊗ |+⟩_atom\n",
    "psi11 = system.create_initial_state('0', '+')\n",
    "\n",
    "# Collapse operators\n",
    "c_ops = system.create_collapse_operators(leaking=False, decay=False, dephasing=True)\n",
    "\n",
    "...\n",
    "```"
   ]
  },
  {
   "cell_type": "markdown",
   "id": "d3605f47",
   "metadata": {
    "slideshow": {
     "slide_type": "subslide"
    }
   },
   "source": [
    "\n",
    "<div align=\"center\">\n",
    "  <img src=\"./plus_state_dec.gif\" alt=\"Cavity Illustration\" width=\"400\">\n",
    "</div>\n"
   ]
  },
  {
   "cell_type": "markdown",
   "id": "0efe8685",
   "metadata": {
    "slideshow": {
     "slide_type": "slide"
    }
   },
   "source": [
    "### Multiple Atoms coupled to the Cavity\n"
   ]
  },
  {
   "cell_type": "markdown",
   "id": "6e4f04b9",
   "metadata": {
    "slideshow": {
     "slide_type": "fragment"
    }
   },
   "source": [
    "```python\n",
    "\n",
    "class MultipleAtomsCavitySystem:\n",
    "\n",
    "    ...\n",
    "\n",
    "    def atom_operator(self, op, atom_index):\n",
    "        op_list = [qt.qeye(self.N)] \n",
    "        for j in range(self.num_atoms):\n",
    "            op_list.append(op if j == atom_index else qt.qeye(2))\n",
    "        return qt.tensor(op_list)\n",
    "\n",
    "    def create_operators(self):\n",
    "        self.a = qt.tensor([qt.destroy(self.N)] + [qt.qeye(2) for _ in range(self.num_atoms)])\n",
    "        self.sm_list = [self.atom_operator(qt.destroy(2), i) for i in range(self.num_atoms)]\n",
    "        self.sz_list = [sm.dag()*sm - sm*sm.dag() for sm in self.sm_list]\n",
    "\n",
    "    def create_hamiltonian(self):\n",
    "        H_cavity = self.w0 * self.a.dag() * self.a\n",
    "        H_atoms = sum(self.w0 * sm.dag() * sm for sm in self.sm_list)\n",
    "        H_int = sum(self.g * (self.a.dag() * sm + self.a * sm.dag()) for sm in self.sm_list)\n",
    "        return H_cavity + H_atoms + H_int\n",
    "\n",
    "    ...\n",
    "\n",
    "```"
   ]
  },
  {
   "cell_type": "markdown",
   "id": "c11afd4b",
   "metadata": {
    "slideshow": {
     "slide_type": "subslide"
    }
   },
   "source": [
    "\n",
    "<div align=\"center\">\n",
    "  <img src=\"./two_atoms.gif\" alt=\"Cavity Illustration\" width=\"600\">\n",
    "</div>\n"
   ]
  },
  {
   "cell_type": "markdown",
   "id": "1aa13c65",
   "metadata": {
    "slideshow": {
     "slide_type": "slide"
    }
   },
   "source": [
    "### Spin Echo \n",
    "\n",
    "- Introduce static dephasing noise\n",
    "- Apply π-pulse at t = t_echo to refocus Bloch vector\n",
    "- Average over multiple realizations\n"
   ]
  },
  {
   "cell_type": "markdown",
   "id": "2b5cd4e5",
   "metadata": {
    "slideshow": {
     "slide_type": "fragment"
    }
   },
   "source": [
    "```python\n",
    " def evolve_with_static_noise(delta_phi):\n",
    "    H_noise = H + 0.5 * delta_phi * qt.tensor(qt.qeye(system.N), qt.sigmaz())\n",
    "\n",
    "    result1 = qt.mesolve(H_noise, psi0, times1, c_ops, [], options=qt.Options(store_states=True))\n",
    "    rho_mid = result1.states[-1]\n",
    "    rho_mid_pulsed = X_pi * rho_mid * X_pi.dag()\n",
    "    result2 = qt.mesolve(H_noise, rho_mid_pulsed, times2, c_ops, [], options=qt.Options(store_states=True))\n",
    "\n",
    "    return result1.states + result2.states\n",
    "\n",
    "    # Run multiple realizations\n",
    "    all_states = []\n",
    "    for _ in range(num_realizations):\n",
    "        delta_phi = np.random.normal(0, sigma)\n",
    "        states = evolve_with_static_noise(delta_phi)\n",
    "        all_states.append(states)\n",
    "```"
   ]
  },
  {
   "cell_type": "markdown",
   "id": "c002de54",
   "metadata": {
    "slideshow": {
     "slide_type": "subslide"
    }
   },
   "source": [
    "<div align=\"center\">\n",
    "  <img src=\"./resultEcho.png\" alt=\"Cavity Illustration\" width=\"600\">\n",
    "</div>"
   ]
  },
  {
   "cell_type": "markdown",
   "id": "f9efdb92",
   "metadata": {
    "slideshow": {
     "slide_type": "subslide"
    }
   },
   "source": [
    "<div align=\"center\">\n",
    "  <img src=\"./plus_state_spin_echo.gif\" alt=\"Cavity Illustration\" width=\"600\">\n",
    "</div>"
   ]
  },
  {
   "cell_type": "markdown",
   "id": "ed7793ab",
   "metadata": {
    "slideshow": {
     "slide_type": "slide"
    }
   },
   "source": [
    "## Outlook & Extension\n",
    "\n",
    "- Try simulation limits - number of Atoms\n",
    "- optimize code\n",
    "- Explore more phenomena\n",
    "- Introduce detuning and different frequencies \n"
   ]
  }
 ],
 "metadata": {
  "kernelspec": {
   "display_name": "Python (finalProject)",
   "language": "python",
   "name": "finalproject"
  },
  "language_info": {
   "codemirror_mode": {
    "name": "ipython",
    "version": 3
   },
   "file_extension": ".py",
   "mimetype": "text/x-python",
   "name": "python",
   "nbconvert_exporter": "python",
   "pygments_lexer": "ipython3",
   "version": "3.13.2"
  }
 },
 "nbformat": 4,
 "nbformat_minor": 5
}
