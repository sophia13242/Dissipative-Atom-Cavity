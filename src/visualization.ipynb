{
 "cells": [
  {
   "cell_type": "code",
   "execution_count": 6,
   "id": "dd9b1f99",
   "metadata": {},
   "outputs": [
    {
     "data": {
      "application/vnd.jupyter.widget-view+json": {
       "model_id": "53f82260186f4b14b1b1df21ab5917ea",
       "version_major": 2,
       "version_minor": 0
      },
      "text/plain": [
       "interactive(children=(FloatSlider(value=0.1, description='Decay γ', max=0.5, step=0.01), FloatSlider(value=0.0…"
      ]
     },
     "metadata": {},
     "output_type": "display_data"
    }
   ],
   "source": [
    "import numpy as np\n",
    "import qutip as qt\n",
    "import matplotlib.pyplot as plt\n",
    "from ipywidgets import interact, FloatSlider\n",
    "from system import AtomCavitySystem\n",
    "\n",
    "def run_simulation(gamma, kappa, beta):\n",
    "    # Create system\n",
    "    system = AtomCavitySystem(N=10, g=(0.1 * 2 * np.pi), w0=(1.0 * 2 * np.pi),\n",
    "                              gamma=gamma, kappa=kappa, beta=beta)\n",
    "\n",
    "    # Build Hamiltonian\n",
    "    H = system.create_hamiltonian()\n",
    "\n",
    "    # Initial state |0⟩_cavity ⊗ |+⟩_atom\n",
    "    psi11 = system.create_initial_state('0', '+')\n",
    "\n",
    "    # Collapse operators\n",
    "    c_ops = system.create_collapse_operators(leaking=True, decay=True, dephasing=True)\n",
    "\n",
    "    # Expectation values\n",
    "    e_ops = system.create_expectation_values(\n",
    "        number_atom=True,\n",
    "        number_cavity=True,\n",
    "        coherence_ge=True,\n",
    "        coherence_eg=True\n",
    "    )\n",
    "\n",
    "    # Time evolution\n",
    "    times = np.linspace(0, 20, 500)\n",
    "    result = qt.mesolve(H, psi11, times, c_ops, e_ops)\n",
    "\n",
    "    # Plot\n",
    "    plt.figure(figsize=(8, 5))\n",
    "    plt.plot(times, result.expect[0], label=\"⟨n_atom⟩\")\n",
    "    plt.plot(times, result.expect[1], label=\"⟨n_cavity⟩\")\n",
    "    plt.plot(times, np.abs(result.expect[2]), label=\"|coherence|\")\n",
    "    plt.legend()\n",
    "    plt.xlabel(\"Time\")\n",
    "    plt.ylabel(\"Expectation value\")\n",
    "    plt.grid(True)\n",
    "    plt.show()\n",
    "\n",
    "# Create interactive sliders\n",
    "interact(run_simulation,\n",
    "         gamma=FloatSlider(min=0, max=0.5, step=0.01, value=0.1, description=\"Decay γ\"),\n",
    "         kappa=FloatSlider(min=0, max=0.5, step=0.01, value=0.05, description=\"Leaking κ\"),\n",
    "         beta=FloatSlider(min=0, max=0.5, step=0.01, value=0.02, description=\"Dephasing β\"));\n"
   ]
  },
  {
   "cell_type": "code",
   "execution_count": null,
   "id": "e77116ab",
   "metadata": {},
   "outputs": [],
   "source": []
  }
 ],
 "metadata": {
  "kernelspec": {
   "display_name": "Python (finalProject)",
   "language": "python",
   "name": "finalproject"
  },
  "language_info": {
   "codemirror_mode": {
    "name": "ipython",
    "version": 3
   },
   "file_extension": ".py",
   "mimetype": "text/x-python",
   "name": "python",
   "nbconvert_exporter": "python",
   "pygments_lexer": "ipython3",
   "version": "3.13.2"
  }
 },
 "nbformat": 4,
 "nbformat_minor": 5
}
