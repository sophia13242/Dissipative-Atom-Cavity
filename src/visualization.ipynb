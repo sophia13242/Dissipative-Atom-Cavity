{
 "cells": [
  {
   "cell_type": "markdown",
   "id": "63e278e6",
   "metadata": {},
   "source": [
    "### Visualization without Echo"
   ]
  },
  {
   "cell_type": "code",
   "execution_count": 2,
   "id": "dd9b1f99",
   "metadata": {},
   "outputs": [
    {
     "data": {
      "application/vnd.jupyter.widget-view+json": {
       "model_id": "b443b05a758943f6bc8af73bc6867881",
       "version_major": 2,
       "version_minor": 0
      },
      "text/plain": [
       "interactive(children=(FloatSlider(value=0.1, description='Decay γ', max=0.5, step=0.01), FloatSlider(value=0.0…"
      ]
     },
     "metadata": {},
     "output_type": "display_data"
    }
   ],
   "source": [
    "import numpy as np\n",
    "import qutip as qt\n",
    "import matplotlib.pyplot as plt\n",
    "from ipywidgets import interact, FloatSlider\n",
    "from system import AtomCavitySystem\n",
    "\n",
    "\n",
    "def run_simulation(gamma, kappa, beta):\n",
    "    # Create system\n",
    "    system = AtomCavitySystem(N=10, g=(0.1 * 2 * np.pi), w0=(1.0 * 2 * np.pi),\n",
    "                              gamma=gamma, kappa=kappa, beta=beta)\n",
    "\n",
    "    # Build Hamiltonian\n",
    "    H = system.create_hamiltonian()\n",
    "\n",
    "    # Initial state |0⟩_cavity ⊗ |+⟩_atom\n",
    "    psi11 = system.create_initial_state('0', '+')\n",
    "\n",
    "    # Collapse operators\n",
    "    c_ops = system.create_collapse_operators(leaking=True, decay=True, dephasing=True)\n",
    "\n",
    "    # Expectation values\n",
    "    e_ops = system.create_expectation_values(\n",
    "        number_atom=True,\n",
    "        number_cavity=True,\n",
    "        coherence_ge=True,\n",
    "        coherence_eg=True\n",
    "    )\n",
    "\n",
    "    # Time evolution\n",
    "    times = np.linspace(0, 20, 500)\n",
    "    result = qt.mesolve(H, psi11, times, c_ops, e_ops)\n",
    "\n",
    "    # Plot\n",
    "    plt.figure(figsize=(8, 5))\n",
    "    plt.plot(times, result.expect[0], label=\"⟨n_atom⟩\")\n",
    "    plt.plot(times, result.expect[1], label=\"⟨n_cavity⟩\")\n",
    "    plt.plot(times, np.abs(result.expect[2]), label=\"|coherence|\")\n",
    "    plt.legend()\n",
    "    plt.xlabel(\"Time\")\n",
    "    plt.ylabel(\"Expectation value\")\n",
    "    plt.grid(True)\n",
    "    plt.show()\n",
    "\n",
    "# Create interactive sliders\n",
    "interact(run_simulation,\n",
    "         gamma=FloatSlider(min=0, max=0.5, step=0.01, value=0.1, description=\"Decay γ\"),\n",
    "         kappa=FloatSlider(min=0, max=0.5, step=0.01, value=0.05, description=\"Leaking κ\"),\n",
    "         beta=FloatSlider(min=0, max=0.5, step=0.01, value=0.02, description=\"Dephasing β\"));\n"
   ]
  },
  {
   "cell_type": "markdown",
   "id": "a05dd13e",
   "metadata": {},
   "source": [
    "### Adding an Echo"
   ]
  },
  {
   "cell_type": "code",
   "execution_count": 3,
   "id": "6ca7abf6",
   "metadata": {},
   "outputs": [
    {
     "data": {
      "application/vnd.jupyter.widget-view+json": {
       "model_id": "f43910fd6bb744738623abaf84f7d0da",
       "version_major": 2,
       "version_minor": 0
      },
      "text/plain": [
       "interactive(children=(FloatSlider(value=0.1, description='Decay γ', max=0.5, step=0.01), FloatSlider(value=0.0…"
      ]
     },
     "metadata": {},
     "output_type": "display_data"
    }
   ],
   "source": [
    "import numpy as np\n",
    "import qutip as qt\n",
    "import matplotlib.pyplot as plt\n",
    "from ipywidgets import interact, FloatSlider\n",
    "from system import AtomCavitySystem\n",
    "\n",
    "def run_simulation(gamma, kappa, beta, t_echo):\n",
    "    # Create system\n",
    "    system = AtomCavitySystem(N=10, g=0, w0=(1.0 * 2 * np.pi),\n",
    "                              gamma=gamma, kappa=kappa, beta=beta)\n",
    "\n",
    "    # Build Hamiltonian\n",
    "    H = system.create_hamiltonian()\n",
    "\n",
    "    # Initial state |0⟩_cavity ⊗ |+⟩_atom\n",
    "    psi0 = system.create_initial_state('1', '+')\n",
    "\n",
    "    # Collapse operators\n",
    "    c_ops = system.create_collapse_operators(leaking=True, decay=True, dephasing=True)\n",
    "\n",
    "    # Expectation values\n",
    "    e_ops = system.create_expectation_values(\n",
    "        number_atom=True,\n",
    "        number_cavity=True,\n",
    "        coherence_ge=True,\n",
    "        coherence_eg=True\n",
    "    )\n",
    "\n",
    "    # Total simulation time\n",
    "    t_max = 100\n",
    "    times1 = np.linspace(0, t_echo, 250)\n",
    "    times2 = np.linspace(t_echo, t_max, 250)\n",
    "\n",
    "    # First evolution until t_echo\n",
    "    result1 = qt.mesolve(H, psi0, times1, c_ops, e_ops, options=qt.Options(store_states=True))\n",
    "\n",
    "    # Apply π-pulse (σx on atom)\n",
    "    X_pi = qt.tensor(qt.qeye(system.N), qt.sigmax())\n",
    "    rho_mid = result1.states[-1] \n",
    "    rho_mid_pulsed = X_pi * rho_mid * X_pi.dag()\n",
    "\n",
    "    # Continue evolution after echo\n",
    "    result2 = qt.mesolve(H, rho_mid_pulsed, times2, c_ops, e_ops)\n",
    "\n",
    "    # Combine results\n",
    "    times_full = np.concatenate([times1, times2])\n",
    "    result_full = [np.concatenate([result1.expect[i], result2.expect[i]]) for i in range(len(e_ops))]\n",
    "\n",
    "    # Plot\n",
    "    plt.figure(figsize=(8, 5))\n",
    "    plt.plot(times_full, result_full[0], label=\"⟨n_atom⟩\")\n",
    "    plt.plot(times_full, result_full[1], label=\"⟨n_cavity⟩\")\n",
    "    plt.plot(times_full, np.abs(result_full[2]), label=\"|coherence|\")\n",
    "    plt.legend()\n",
    "    plt.xlabel(\"Time\")\n",
    "    plt.ylabel(\"Expectation value\")\n",
    "    plt.grid(True)\n",
    "    plt.show()\n",
    "\n",
    "\n",
    "# Interactive sliders\n",
    "interact(run_simulation,\n",
    "         gamma=FloatSlider(min=0, max=0.5, step=0.01, value=0.1, description=\"Decay γ\"),\n",
    "         kappa=FloatSlider(min=0, max=0.5, step=0.01, value=0.05, description=\"Leaking κ\"),\n",
    "         beta=FloatSlider(min=0, max=0.5, step=0.01, value=0.02, description=\"Dephasing β\"),\n",
    "         t_echo=FloatSlider(min=0.1, max=60, step=0.1, value=10, description=\"Echo time\"));\n"
   ]
  },
  {
   "cell_type": "code",
   "execution_count": 4,
   "id": "88a98023",
   "metadata": {},
   "outputs": [
    {
     "data": {
      "application/vnd.jupyter.widget-view+json": {
       "model_id": "61ca111159f34f1dae2b864d893ad0ab",
       "version_major": 2,
       "version_minor": 0
      },
      "text/plain": [
       "interactive(children=(FloatSlider(value=0.1, description='Decay γ', max=0.5, step=0.01), FloatSlider(value=0.0…"
      ]
     },
     "metadata": {},
     "output_type": "display_data"
    }
   ],
   "source": [
    "import numpy as np\n",
    "import qutip as qt\n",
    "import matplotlib.pyplot as plt\n",
    "from ipywidgets import interact, FloatSlider\n",
    "from system import AtomCavitySystem\n",
    "\n",
    "def run_simulation(gamma, kappa, beta, t_echo):\n",
    "    # Create system\n",
    "    system = AtomCavitySystem(N=10, g=0, w0=(1.0 * 2 * np.pi),\n",
    "                              gamma=gamma, kappa=kappa, beta=beta)\n",
    "\n",
    "    # Build Hamiltonian\n",
    "    H = system.create_hamiltonian()\n",
    "\n",
    "    # Initial state |1⟩_cavity ⊗ |+⟩_atom\n",
    "    psi0 = system.create_initial_state('1', '+')\n",
    "\n",
    "    # Collapse operators\n",
    "    c_ops = system.create_collapse_operators(leaking=True, decay=True, dephasing=True)\n",
    "\n",
    "    # Expectation values\n",
    "    e_ops = system.create_expectation_values(\n",
    "        number_atom=True,\n",
    "        number_cavity=True,\n",
    "        coherence_ge=True,\n",
    "        coherence_eg=True\n",
    "    )\n",
    "\n",
    "    # Total simulation time\n",
    "    t_max = 60\n",
    "    times1 = np.linspace(0, t_echo, 250)\n",
    "    times2 = np.linspace(t_echo, t_max, 250)\n",
    "\n",
    "    # First evolution until t_echo\n",
    "    result1 = qt.mesolve(H, psi0, times1, c_ops, e_ops, options=qt.Options(store_states=True))\n",
    "\n",
    "    # Apply π-pulse (σx on atom)\n",
    "    X_pi = qt.tensor(qt.qeye(system.N), qt.sigmax())\n",
    "    rho_mid = result1.states[-1]\n",
    "    rho_mid_pulsed = X_pi * rho_mid\n",
    "\n",
    "    # Continue evolution after echo\n",
    "    result2 = qt.mesolve(H, rho_mid_pulsed, times2, c_ops, e_ops)\n",
    "\n",
    "    # Combine results\n",
    "    times_full = np.concatenate([times1, times2])\n",
    "    result_full = [np.concatenate([result1.expect[i], result2.expect[i]]) for i in range(len(e_ops))]\n",
    "\n",
    "    # Plot\n",
    "    plt.figure(figsize=(8, 5))\n",
    "    plt.plot(times_full, result_full[0], label=\"⟨n_atom⟩\")\n",
    "    plt.plot(times_full, result_full[1], label=\"⟨n_cavity⟩\")\n",
    "    plt.plot(times_full, np.abs(result_full[2]), label=\"|coherence|\")\n",
    "    plt.legend()\n",
    "    plt.xlabel(\"Time\")\n",
    "    plt.ylabel(\"Expectation value\")\n",
    "    plt.grid(True)\n",
    "    plt.show()\n",
    "\n",
    "\n",
    "# Interactive sliders\n",
    "interact(run_simulation,\n",
    "         gamma=FloatSlider(min=0, max=0.5, step=0.01, value=0.1, description=\"Decay γ\"),\n",
    "         kappa=FloatSlider(min=0, max=0.5, step=0.01, value=0.05, description=\"Leaking κ\"),\n",
    "         beta=FloatSlider(min=0, max=0.5, step=0.01, value=0.02, description=\"Dephasing β\"),\n",
    "         t_echo=FloatSlider(min=0.1, max=60, step=0.1, value=10, description=\"Echo time\"));\n"
   ]
  },
  {
   "cell_type": "markdown",
   "id": "bffa479d",
   "metadata": {},
   "source": [
    "### Visualization of the atom state on the Bloch sphere"
   ]
  },
  {
   "cell_type": "markdown",
   "id": "f73701e3",
   "metadata": {},
   "source": [
    "#### plus state without decoherence\n",
    "rotating around the z axis"
   ]
  },
  {
   "cell_type": "code",
   "execution_count": 5,
   "id": "df69c876",
   "metadata": {},
   "outputs": [],
   "source": [
    "system = AtomCavitySystem(N=10, g=0, w0=(1.0 * 2 * np.pi),\n",
    "                              gamma=0, kappa=0, beta=0)\n",
    "\n",
    "# Build Hamiltonian\n",
    "H = system.create_hamiltonian()\n",
    "\n",
    "# Initial state |0⟩_cavity ⊗ |+⟩_atom\n",
    "psi11 = system.create_initial_state('0', '+')\n",
    "\n",
    "# Collapse operators\n",
    "c_ops = system.create_collapse_operators(leaking=False, decay=False, dephasing=False)\n",
    "\n",
    "# Expectation values\n",
    "e_ops = system.create_expectation_values(\n",
    "    number_atom=True,\n",
    "    number_cavity=True,\n",
    "    coherence_ge=True,\n",
    "    coherence_eg=True\n",
    ")\n",
    "\n",
    "# Time evolution\n",
    "times = np.linspace(0, 20, 500)\n",
    "result = qt.mesolve(H, psi11, times, c_ops, e_ops, options=qt.Options(store_states=True))\n",
    "\n",
    "#system.create_bloch_gif(result, \"plus_state.gif\")"
   ]
  },
  {
   "cell_type": "markdown",
   "id": "34afb541",
   "metadata": {},
   "source": [
    "#### plus state with decoherence"
   ]
  },
  {
   "cell_type": "code",
   "execution_count": 6,
   "id": "96d238fe",
   "metadata": {},
   "outputs": [],
   "source": [
    "system = AtomCavitySystem(N=10, g=0, w0=(1.0 * 2 * np.pi),\n",
    "                              gamma=0, kappa=0, beta=0.1)\n",
    "\n",
    "# Build Hamiltonian\n",
    "H = system.create_hamiltonian()\n",
    "\n",
    "# Initial state |0⟩_cavity ⊗ |+⟩_atom\n",
    "psi11 = system.create_initial_state('0', '+')\n",
    "\n",
    "# Collapse operators\n",
    "c_ops = system.create_collapse_operators(leaking=False, decay=False, dephasing=True)\n",
    "\n",
    "# Expectation values\n",
    "e_ops = system.create_expectation_values(\n",
    "    number_atom=True,\n",
    "    number_cavity=True,\n",
    "    coherence_ge=True,\n",
    "    coherence_eg=True\n",
    ")\n",
    "\n",
    "# Time evolution\n",
    "times = np.linspace(0, 20, 500)\n",
    "result = qt.mesolve(H, psi11, times, c_ops, e_ops, options=qt.Options(store_states=True))\n",
    "\n",
    "#system.create_bloch_gif(result, \"plus_state_dec.gif\")"
   ]
  },
  {
   "cell_type": "markdown",
   "id": "0135ea63",
   "metadata": {},
   "source": [
    "#### plus state with echo"
   ]
  },
  {
   "cell_type": "code",
   "execution_count": 10,
   "id": "aff41e4d",
   "metadata": {},
   "outputs": [
    {
     "name": "stderr",
     "output_type": "stream",
     "text": [
      "c:\\Users\\SophiaCarmenSimon\\dissipativeAtomCavity\\.venv\\Lib\\site-packages\\qutip\\solver\\options.py:16: FutureWarning: Dedicated options class are no longer needed, options should be passed as dict to solvers.\n",
      "  warnings.warn(\n",
      "c:\\Users\\SophiaCarmenSimon\\dissipativeAtomCavity\\.venv\\Lib\\site-packages\\qutip\\solver\\solver_base.py:576: FutureWarning: e_ops will be keyword only from qutip 5.3 for all solver\n",
      "  warnings.warn(\n"
     ]
    },
    {
     "name": "stdout",
     "output_type": "stream",
     "text": [
      "updated\n",
      "Animation saved as plus_state_dec_echo.gif\n"
     ]
    }
   ],
   "source": [
    "X_pi = qt.tensor(qt.qeye(system.N), qt.sigmax())\n",
    "\n",
    "system = AtomCavitySystem(N=10, g=0, w0=(1.0 * 2 * np.pi),\n",
    "                          gamma=0, kappa=0, beta=0.03)\n",
    "\n",
    "# Build Hamiltonian\n",
    "H = system.create_hamiltonian()\n",
    "\n",
    "# Initial state |1⟩_cavity ⊗ |+⟩_atom\n",
    "psi0 = system.create_initial_state('1', '+')\n",
    "\n",
    "# Collapse operators\n",
    "c_ops = system.create_collapse_operators(leaking=True, decay=True, dephasing=True)\n",
    "\n",
    "# Expectation values\n",
    "e_ops = system.create_expectation_values(\n",
    "    number_atom=True,\n",
    "    number_cavity=True,\n",
    "    coherence_ge=True,\n",
    "    coherence_eg=True\n",
    ")\n",
    "\n",
    "# Total simulation time\n",
    "t_max = 20\n",
    "t_echo = 5.25\n",
    "times1 = np.linspace(0, t_echo, 100)\n",
    "times2 = np.linspace(t_echo, t_max, 400)\n",
    "\n",
    "# First evolution until t_echo\n",
    "result1 = qt.mesolve(H, psi0, times1, c_ops, e_ops, options=qt.Options(store_states=True))\n",
    "\n",
    "# Apply π-pulse (σx on atom)\n",
    "rho_mid = result1.states[-1]\n",
    "rho_mid_pulsed = X_pi * rho_mid * X_pi.dag()\n",
    "\n",
    "# Continue evolution after echo\n",
    "result2 = qt.mesolve(H, rho_mid_pulsed, times2, c_ops, e_ops, options=qt.Options(store_states=True))\n",
    "\n",
    "# Combine results\n",
    "times_full = np.concatenate([times1, times2])\n",
    "all_states = result1.states + result2.states\n",
    "\n",
    "# Create a new result-like object with states and times\n",
    "class SimpleResult:\n",
    "    def __init__(self, states, times):\n",
    "        self.states = states\n",
    "        self.times = times\n",
    "\n",
    "combined_result = SimpleResult(all_states, times_full)\n",
    "\n",
    "# Create Bloch GIF with smooth interpolation\n",
    "system.create_bloch_gif(combined_result, \"plus_state_dec_echo.gif\")\n"
   ]
  },
  {
   "cell_type": "code",
   "execution_count": null,
   "id": "13864cce",
   "metadata": {},
   "outputs": [
    {
     "name": "stdout",
     "output_type": "stream",
     "text": [
      "updated\n",
      "Animation saved as plus_state_spin_echo.gif\n"
     ]
    }
   ],
   "source": [
    "# Parameters \n",
    "\n",
    "N = 10\n",
    "g = 0\n",
    "w0 = 1.0 * 2 * np.pi\n",
    "gamma = 0.0\n",
    "kappa = 0.0\n",
    "beta = 0.0   # do quasi-static noise instead of Lindblad sz!\n",
    "t_max = 60\n",
    "t_echo = 10.25\n",
    "num_realizations = 50\n",
    "sigma = 0.2   # quasi-static dephasing strength\n",
    "\n",
    "times1 = np.linspace(0, t_echo, 50)\n",
    "times2 = np.linspace(t_echo, t_max, 300)\n",
    "times_full = np.concatenate([times1, times2])\n",
    "\n",
    "# Pi pulse on atom\n",
    "X_pi = qt.tensor(qt.qeye(N), qt.sigmax())\n",
    "\n",
    "\n",
    "# System setup\n",
    "system = AtomCavitySystem(N=N, g=g, w0=w0, gamma=gamma, kappa=kappa, beta=beta)\n",
    "H = system.create_hamiltonian()\n",
    "psi0 = system.create_initial_state('1', '+')\n",
    "\n",
    "# Expectation values for Bloch vector\n",
    "e_ops = [system.coh_ge, system.coh_eg]\n",
    "\n",
    "\n",
    "# Evolve with quasi-static noise\n",
    "def evolve_with_static_noise(H, psi0, times1, times2, delta_phi):\n",
    "    H_noise = H + 0.5 * delta_phi * qt.tensor(qt.qeye(N), qt.sigmaz())\n",
    "\n",
    "    result1 = qt.mesolve(H_noise, psi0, times1, [], e_ops, options=qt.Options(store_states=True))\n",
    "    rho_mid = result1.states[-1]\n",
    "    rho_mid_pulsed = X_pi * rho_mid * X_pi.dag()\n",
    "    result2 = qt.mesolve(H_noise, rho_mid_pulsed, times2, [], e_ops, options=qt.Options(store_states=True))\n",
    "\n",
    "    result2.states = result1.states + result2.states\n",
    "    result2.times = np.concatenate([times1, times2])\n",
    "    return result2\n",
    "\n",
    "# Run multiple realizations\n",
    "all_states = []\n",
    "for _ in range(num_realizations):\n",
    "    delta_phi = np.random.normal(0, sigma)\n",
    "    result = evolve_with_static_noise(H, psi0, times1, times2, delta_phi)\n",
    "    all_states.append(result.states)\n",
    "\n",
    "# Average over realizations\n",
    "avg_states = []\n",
    "for i in range(len(times_full)):\n",
    "    rho_avg = sum([all_states[r][i] for r in range(num_realizations)]) / num_realizations\n",
    "    avg_states.append(rho_avg)\n",
    "\n",
    "\n",
    "# Create GIF\n",
    "system.create_bloch_gif(type('Result', (), {'states': avg_states, 'times': times_full})(), \n",
    "                        \"plus_state_spin_echo.gif\")\n"
   ]
  },
  {
   "cell_type": "code",
   "execution_count": null,
   "id": "7733f213",
   "metadata": {},
   "outputs": [],
   "source": []
  }
 ],
 "metadata": {
  "kernelspec": {
   "display_name": "Python (finalProject)",
   "language": "python",
   "name": "finalproject"
  },
  "language_info": {
   "codemirror_mode": {
    "name": "ipython",
    "version": 3
   },
   "file_extension": ".py",
   "mimetype": "text/x-python",
   "name": "python",
   "nbconvert_exporter": "python",
   "pygments_lexer": "ipython3",
   "version": "3.13.2"
  }
 },
 "nbformat": 4,
 "nbformat_minor": 5
}
