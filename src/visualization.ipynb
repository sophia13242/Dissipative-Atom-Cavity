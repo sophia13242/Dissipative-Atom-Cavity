{
 "cells": [
  {
   "cell_type": "markdown",
   "id": "63e278e6",
   "metadata": {},
   "source": [
    "### Visualization without Echo"
   ]
  },
  {
   "cell_type": "code",
   "execution_count": 6,
   "id": "dd9b1f99",
   "metadata": {},
   "outputs": [
    {
     "data": {
      "application/vnd.jupyter.widget-view+json": {
       "model_id": "01e90b19d78e4040b664f5bfdc1db4b0",
       "version_major": 2,
       "version_minor": 0
      },
      "text/plain": [
       "interactive(children=(FloatSlider(value=0.1, description='Decay γ', max=0.5, step=0.01), FloatSlider(value=0.0…"
      ]
     },
     "metadata": {},
     "output_type": "display_data"
    }
   ],
   "source": [
    "import numpy as np\n",
    "import qutip as qt\n",
    "import matplotlib.pyplot as plt\n",
    "from ipywidgets import interact, FloatSlider\n",
    "from system import AtomCavitySystem\n",
    "\n",
    "\n",
    "def run_simulation(gamma, kappa, beta):\n",
    "    # Create system\n",
    "    system = AtomCavitySystem(N=10, g=(0.1 * 2 * np.pi), w0=(1.0 * 2 * np.pi),\n",
    "                              gamma=gamma, kappa=kappa, beta=beta)\n",
    "\n",
    "    # Build Hamiltonian\n",
    "    H = system.create_hamiltonian()\n",
    "\n",
    "    # Initial state |0⟩_cavity ⊗ |+⟩_atom\n",
    "    psi11 = system.create_initial_state('0', '+')\n",
    "\n",
    "    # Collapse operators\n",
    "    c_ops = system.create_collapse_operators(leaking=True, decay=True, dephasing=True)\n",
    "\n",
    "    # Expectation values\n",
    "    e_ops = system.create_expectation_values(\n",
    "        number_atom=True,\n",
    "        number_cavity=True,\n",
    "        coherence_ge=True,\n",
    "        coherence_eg=True\n",
    "    )\n",
    "\n",
    "    # Time evolution\n",
    "    times = np.linspace(0, 20, 500)\n",
    "    result = qt.mesolve(H, psi11, times, c_ops, e_ops)\n",
    "\n",
    "    # Plot\n",
    "    plt.figure(figsize=(8, 5))\n",
    "    plt.plot(times, result.expect[0], label=\"⟨n_atom⟩\")\n",
    "    plt.plot(times, result.expect[1], label=\"⟨n_cavity⟩\")\n",
    "    plt.plot(times, np.abs(result.expect[2]), label=\"|coherence|\")\n",
    "    plt.legend()\n",
    "    plt.xlabel(\"Time\")\n",
    "    plt.ylabel(\"Expectation value\")\n",
    "    plt.grid(True)\n",
    "    plt.show()\n",
    "\n",
    "# Create interactive sliders\n",
    "interact(run_simulation,\n",
    "         gamma=FloatSlider(min=0, max=0.5, step=0.01, value=0.1, description=\"Decay γ\"),\n",
    "         kappa=FloatSlider(min=0, max=0.5, step=0.01, value=0.05, description=\"Leaking κ\"),\n",
    "         beta=FloatSlider(min=0, max=0.5, step=0.01, value=0.02, description=\"Dephasing β\"));\n"
   ]
  },
  {
   "cell_type": "markdown",
   "id": "a05dd13e",
   "metadata": {},
   "source": [
    "### Adding an Echo"
   ]
  },
  {
   "cell_type": "code",
   "execution_count": 7,
   "id": "6ca7abf6",
   "metadata": {},
   "outputs": [
    {
     "data": {
      "application/vnd.jupyter.widget-view+json": {
       "model_id": "2ff401eee8f64d3db6cb9adbb39e9683",
       "version_major": 2,
       "version_minor": 0
      },
      "text/plain": [
       "interactive(children=(FloatSlider(value=0.1, description='Decay γ', max=0.5, step=0.01), FloatSlider(value=0.0…"
      ]
     },
     "metadata": {},
     "output_type": "display_data"
    }
   ],
   "source": [
    "import numpy as np\n",
    "import qutip as qt\n",
    "import matplotlib.pyplot as plt\n",
    "from ipywidgets import interact, FloatSlider\n",
    "from system import AtomCavitySystem\n",
    "\n",
    "def run_simulation(gamma, kappa, beta, t_echo):\n",
    "    # Create system\n",
    "    system = AtomCavitySystem(N=10, g=(0.1 * 2 * np.pi), w0=(1.0 * 2 * np.pi),\n",
    "                              gamma=gamma, kappa=kappa, beta=beta)\n",
    "\n",
    "    # Build Hamiltonian\n",
    "    H = system.create_hamiltonian()\n",
    "\n",
    "    # Initial state |0⟩_cavity ⊗ |+⟩_atom\n",
    "    psi0 = system.create_initial_state('1', '+')\n",
    "\n",
    "    # Collapse operators\n",
    "    c_ops = system.create_collapse_operators(leaking=True, decay=True, dephasing=True)\n",
    "\n",
    "    # Expectation values\n",
    "    e_ops = system.create_expectation_values(\n",
    "        number_atom=True,\n",
    "        number_cavity=True,\n",
    "        coherence_ge=True,\n",
    "        coherence_eg=True\n",
    "    )\n",
    "\n",
    "    # Total simulation time\n",
    "    t_max = 100\n",
    "    times1 = np.linspace(0, t_echo, 250)\n",
    "    times2 = np.linspace(t_echo, t_max, 250)\n",
    "\n",
    "    # First evolution until t_echo\n",
    "    result1 = qt.mesolve(H, psi0, times1, c_ops, e_ops, options=qt.Options(store_states=True))\n",
    "\n",
    "    # Apply π-pulse (σx on atom)\n",
    "    X_pi = qt.tensor(qt.qeye(system.N), qt.sigmax())\n",
    "    rho_mid = result1.states[-1] \n",
    "    rho_mid_pulsed = X_pi * rho_mid * X_pi.dag()\n",
    "\n",
    "    # Continue evolution after echo\n",
    "    result2 = qt.mesolve(H, rho_mid_pulsed, times2, c_ops, e_ops)\n",
    "\n",
    "    # Combine results\n",
    "    times_full = np.concatenate([times1, times2])\n",
    "    result_full = [np.concatenate([result1.expect[i], result2.expect[i]]) for i in range(len(e_ops))]\n",
    "\n",
    "    # Plot\n",
    "    plt.figure(figsize=(8, 5))\n",
    "    plt.plot(times_full, result_full[0], label=\"⟨n_atom⟩\")\n",
    "    plt.plot(times_full, result_full[1], label=\"⟨n_cavity⟩\")\n",
    "    plt.plot(times_full, np.abs(result_full[2]), label=\"|coherence|\")\n",
    "    plt.legend()\n",
    "    plt.xlabel(\"Time\")\n",
    "    plt.ylabel(\"Expectation value\")\n",
    "    plt.grid(True)\n",
    "    plt.show()\n",
    "\n",
    "\n",
    "# Interactive sliders\n",
    "interact(run_simulation,\n",
    "         gamma=FloatSlider(min=0, max=0.5, step=0.01, value=0.1, description=\"Decay γ\"),\n",
    "         kappa=FloatSlider(min=0, max=0.5, step=0.01, value=0.05, description=\"Leaking κ\"),\n",
    "         beta=FloatSlider(min=0, max=0.5, step=0.01, value=0.02, description=\"Dephasing β\"),\n",
    "         t_echo=FloatSlider(min=0.1, max=60, step=0.1, value=10, description=\"Echo time\"));\n"
   ]
  },
  {
   "cell_type": "code",
   "execution_count": 8,
   "id": "88a98023",
   "metadata": {},
   "outputs": [
    {
     "data": {
      "application/vnd.jupyter.widget-view+json": {
       "model_id": "5ef8947a86004cefa2e15a13c35de0c8",
       "version_major": 2,
       "version_minor": 0
      },
      "text/plain": [
       "interactive(children=(FloatSlider(value=0.1, description='Decay γ', max=0.5, step=0.01), FloatSlider(value=0.0…"
      ]
     },
     "metadata": {},
     "output_type": "display_data"
    }
   ],
   "source": [
    "import numpy as np\n",
    "import qutip as qt\n",
    "import matplotlib.pyplot as plt\n",
    "from ipywidgets import interact, FloatSlider\n",
    "from system import AtomCavitySystem\n",
    "\n",
    "def run_simulation(gamma, kappa, beta, t_echo):\n",
    "    # Create system\n",
    "    system = AtomCavitySystem(N=10, g=(0.1 * 2 * np.pi), w0=(1.0 * 2 * np.pi),\n",
    "                              gamma=gamma, kappa=kappa, beta=beta)\n",
    "\n",
    "    # Build Hamiltonian\n",
    "    H = system.create_hamiltonian()\n",
    "\n",
    "    # Initial state |1⟩_cavity ⊗ |+⟩_atom\n",
    "    psi0 = system.create_initial_state('1', '+')\n",
    "\n",
    "    # Collapse operators\n",
    "    c_ops = system.create_collapse_operators(leaking=True, decay=True, dephasing=True)\n",
    "\n",
    "    # Expectation values\n",
    "    e_ops = system.create_expectation_values(\n",
    "        number_atom=True,\n",
    "        number_cavity=True,\n",
    "        coherence_ge=True,\n",
    "        coherence_eg=True\n",
    "    )\n",
    "\n",
    "    # Total simulation time\n",
    "    t_max = 60\n",
    "    times1 = np.linspace(0, t_echo, 250)\n",
    "    times2 = np.linspace(t_echo, t_max, 250)\n",
    "\n",
    "    # First evolution until t_echo\n",
    "    result1 = qt.mesolve(H, psi0, times1, c_ops, e_ops, options=qt.Options(store_states=True))\n",
    "\n",
    "    # Apply π-pulse (σx on atom)\n",
    "    X_pi = qt.tensor(qt.qeye(system.N), qt.sigmax())\n",
    "    rho_mid = result1.states[-1]\n",
    "    rho_mid_pulsed = X_pi * rho_mid\n",
    "\n",
    "    # Continue evolution after echo\n",
    "    result2 = qt.mesolve(H, rho_mid_pulsed, times2, c_ops, e_ops)\n",
    "\n",
    "    # Combine results\n",
    "    times_full = np.concatenate([times1, times2])\n",
    "    result_full = [np.concatenate([result1.expect[i], result2.expect[i]]) for i in range(len(e_ops))]\n",
    "\n",
    "    # Plot\n",
    "    plt.figure(figsize=(8, 5))\n",
    "    plt.plot(times_full, result_full[0], label=\"⟨n_atom⟩\")\n",
    "    plt.plot(times_full, result_full[1], label=\"⟨n_cavity⟩\")\n",
    "    plt.plot(times_full, np.abs(result_full[2]), label=\"|coherence|\")\n",
    "    plt.legend()\n",
    "    plt.xlabel(\"Time\")\n",
    "    plt.ylabel(\"Expectation value\")\n",
    "    plt.grid(True)\n",
    "    plt.show()\n",
    "\n",
    "\n",
    "# Interactive sliders\n",
    "interact(run_simulation,\n",
    "         gamma=FloatSlider(min=0, max=0.5, step=0.01, value=0.1, description=\"Decay γ\"),\n",
    "         kappa=FloatSlider(min=0, max=0.5, step=0.01, value=0.05, description=\"Leaking κ\"),\n",
    "         beta=FloatSlider(min=0, max=0.5, step=0.01, value=0.02, description=\"Dephasing β\"),\n",
    "         t_echo=FloatSlider(min=0.1, max=60, step=0.1, value=10, description=\"Echo time\"));\n"
   ]
  },
  {
   "cell_type": "markdown",
   "id": "bffa479d",
   "metadata": {},
   "source": [
    "### Visualization of the atom state on the Bloch sphere"
   ]
  },
  {
   "cell_type": "markdown",
   "id": "f73701e3",
   "metadata": {},
   "source": [
    "#### plus state without decoherence\n",
    "rotating around the z axis"
   ]
  },
  {
   "cell_type": "code",
   "execution_count": 14,
   "id": "df69c876",
   "metadata": {},
   "outputs": [
    {
     "name": "stdout",
     "output_type": "stream",
     "text": [
      "Animation saved as plus_state.gif\n"
     ]
    }
   ],
   "source": [
    "system = AtomCavitySystem(N=10, g=0, w0=(1.0 * 2 * np.pi),\n",
    "                              gamma=0, kappa=0, beta=0)\n",
    "\n",
    "# Build Hamiltonian\n",
    "H = system.create_hamiltonian()\n",
    "\n",
    "# Initial state |0⟩_cavity ⊗ |+⟩_atom\n",
    "psi11 = system.create_initial_state('0', '+')\n",
    "\n",
    "# Collapse operators\n",
    "c_ops = system.create_collapse_operators(leaking=False, decay=False, dephasing=False)\n",
    "\n",
    "# Expectation values\n",
    "e_ops = system.create_expectation_values(\n",
    "    number_atom=True,\n",
    "    number_cavity=True,\n",
    "    coherence_ge=True,\n",
    "    coherence_eg=True\n",
    ")\n",
    "\n",
    "# Time evolution\n",
    "times = np.linspace(0, 20, 500)\n",
    "result = qt.mesolve(H, psi11, times, c_ops, e_ops, options=qt.Options(store_states=True))\n",
    "\n",
    "system.create_bloch_gif(result, \"plus_state.gif\")"
   ]
  },
  {
   "cell_type": "markdown",
   "id": "34afb541",
   "metadata": {},
   "source": [
    "#### plus state with decoherence"
   ]
  },
  {
   "cell_type": "code",
   "execution_count": 18,
   "id": "96d238fe",
   "metadata": {},
   "outputs": [
    {
     "name": "stdout",
     "output_type": "stream",
     "text": [
      "Animation saved as plus_state_dec.gif\n"
     ]
    }
   ],
   "source": [
    "system = AtomCavitySystem(N=10, g=0, w0=(1.0 * 2 * np.pi),\n",
    "                              gamma=0, kappa=0, beta=0.1)\n",
    "\n",
    "# Build Hamiltonian\n",
    "H = system.create_hamiltonian()\n",
    "\n",
    "# Initial state |0⟩_cavity ⊗ |+⟩_atom\n",
    "psi11 = system.create_initial_state('0', '+')\n",
    "\n",
    "# Collapse operators\n",
    "c_ops = system.create_collapse_operators(leaking=False, decay=False, dephasing=True)\n",
    "\n",
    "# Expectation values\n",
    "e_ops = system.create_expectation_values(\n",
    "    number_atom=True,\n",
    "    number_cavity=True,\n",
    "    coherence_ge=True,\n",
    "    coherence_eg=True\n",
    ")\n",
    "\n",
    "# Time evolution\n",
    "times = np.linspace(0, 20, 500)\n",
    "result = qt.mesolve(H, psi11, times, c_ops, e_ops, options=qt.Options(store_states=True))\n",
    "\n",
    "system.create_bloch_gif(result, \"plus_state_dec.gif\")"
   ]
  },
  {
   "cell_type": "markdown",
   "id": "0135ea63",
   "metadata": {},
   "source": [
    "#### plus state with echo"
   ]
  },
  {
   "cell_type": "markdown",
   "id": "aff41e4d",
   "metadata": {},
   "source": []
  }
 ],
 "metadata": {
  "kernelspec": {
   "display_name": "Python (finalProject)",
   "language": "python",
   "name": "finalproject"
  },
  "language_info": {
   "codemirror_mode": {
    "name": "ipython",
    "version": 3
   },
   "file_extension": ".py",
   "mimetype": "text/x-python",
   "name": "python",
   "nbconvert_exporter": "python",
   "pygments_lexer": "ipython3",
   "version": "3.13.2"
  }
 },
 "nbformat": 4,
 "nbformat_minor": 5
}
