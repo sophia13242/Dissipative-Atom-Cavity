{
 "cells": [
  {
   "cell_type": "markdown",
   "id": "a8c1ce61",
   "metadata": {},
   "source": [
    "### Visualization of the states of multiple atoms coupled to a cavity"
   ]
  },
  {
   "cell_type": "code",
   "execution_count": 1,
   "id": "844c61c4",
   "metadata": {},
   "outputs": [],
   "source": [
    "import numpy as np\n",
    "import qutip as qt\n",
    "import matplotlib.pyplot as plt\n",
    "from ipywidgets import interact, FloatSlider\n",
    "from system_multiple import MultipleAtomsCavitySystem"
   ]
  },
  {
   "cell_type": "code",
   "execution_count": 2,
   "id": "eb3d91c0",
   "metadata": {},
   "outputs": [
    {
     "name": "stderr",
     "output_type": "stream",
     "text": [
      "c:\\Users\\SophiaCarmenSimon\\dissipativeAtomCavity\\.venv\\Lib\\site-packages\\qutip\\solver\\solver_base.py:576: FutureWarning: e_ops will be keyword only from qutip 5.3 for all solver\n",
      "  warnings.warn(\n"
     ]
    },
    {
     "name": "stdout",
     "output_type": "stream",
     "text": [
      "Multi-Bloch animation saved as two_atoms.gif\n"
     ]
    }
   ],
   "source": [
    "system = MultipleAtomsCavitySystem(N=5, g=0.5, w0=2*np.pi, num_atoms=3)\n",
    "system.create_operators()\n",
    "\n",
    "H = system.create_hamiltonian()\n",
    "psi0 = system.create_initial_state('3', ['g', 'g', 'g'])\n",
    "c_ops = system.create_collapse_operators(leaking=False, decay=False, dephasing=False)\n",
    "\n",
    "times = np.linspace(0, 10, 150)\n",
    "result = qt.mesolve(H, psi0, times, c_ops, [])\n",
    "\n",
    "system.create_multi_bloch_gif(result, \"two_atoms.gif\")\n"
   ]
  },
  {
   "cell_type": "code",
   "execution_count": null,
   "id": "aa9f5d6e",
   "metadata": {},
   "outputs": [],
   "source": []
  }
 ],
 "metadata": {
  "kernelspec": {
   "display_name": "Python (finalProject)",
   "language": "python",
   "name": "finalproject"
  },
  "language_info": {
   "codemirror_mode": {
    "name": "ipython",
    "version": 3
   },
   "file_extension": ".py",
   "mimetype": "text/x-python",
   "name": "python",
   "nbconvert_exporter": "python",
   "pygments_lexer": "ipython3",
   "version": "3.13.2"
  }
 },
 "nbformat": 4,
 "nbformat_minor": 5
}
